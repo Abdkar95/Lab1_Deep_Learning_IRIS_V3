{
 "cells": [
  {
   "cell_type": "markdown",
   "metadata": {
    "id": "8PGFkB9cgZ2c"
   },
   "source": [
    "##  Mon premier réseau de neurones appliqué aux données Iris\n",
    "\n",
    "### <font color=\"orange\">Si besoin installer les packages suivants :</font>\n",
    "- !pip install pandas\n",
    "- !pip install keras\n",
    "- !pip install tensorflow\n",
    "- !pip install sklearn\n",
    "- !pip install matplotlib\n"
   ]
  },
  {
   "cell_type": "code",
   "execution_count": 1,
   "metadata": {
    "id": "ZLVi_tnSgZ2e"
   },
   "outputs": [
    {
     "name": "stdout",
     "output_type": "stream",
     "text": [
      "Python 3.9.7\n"
     ]
    }
   ],
   "source": [
    "!python --version\n",
    "\n",
    "#pip list"
   ]
  },
  {
   "cell_type": "markdown",
   "metadata": {
    "id": "bdC_dRvjpJL_"
   },
   "source": [
    "### <font color=\"orange\">Charger les librairies</font>"
   ]
  },
  {
   "cell_type": "code",
   "execution_count": 6,
   "metadata": {
    "id": "IXR9jI8dgZ2h"
   },
   "outputs": [],
   "source": [
    "import pandas as pd\n",
    "import numpy as np\n",
    "import matplotlib.pyplot as plt\n",
    "%matplotlib inline\n",
    "\n",
    "from tensorflow.keras import Input\n",
    "from tensorflow.keras.models import Sequential\n",
    "from tensorflow.keras.layers import Dense, Dropout, Activation, Flatten, BatchNormalization, Activation, Conv2D, MaxPool2D\n",
    "from tensorflow.keras.utils import to_categorical\n",
    "from tensorflow.keras.datasets import fashion_mnist\n",
    "from tensorflow.keras.metrics import F1Score\n",
    "\n",
    "from sklearn.datasets import load_iris\n",
    "from sklearn.model_selection import train_test_split"
   ]
  },
  {
   "cell_type": "code",
   "execution_count": null,
   "metadata": {},
   "outputs": [],
   "source": []
  },
  {
   "cell_type": "markdown",
   "metadata": {
    "id": "Ib_SC22HHgCR"
   },
   "source": [
    "### <font color=\"orange\">Chargement des données Iris</font>\n",
    "![IMG_iris.jpg](data:image/jpeg;base64,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)"
   ]
  },
  {
   "cell_type": "code",
   "execution_count": 8,
   "metadata": {
    "id": "wVxtCPP6gZ2i"
   },
   "outputs": [],
   "source": [
    "iris = load_iris()"
   ]
  },
  {
   "cell_type": "code",
   "execution_count": 9,
   "metadata": {
    "id": "vdA8cQldSrDg"
   },
   "outputs": [
    {
     "data": {
      "text/plain": [
       "dict_keys(['data', 'target', 'frame', 'target_names', 'DESCR', 'feature_names', 'filename', 'data_module'])"
      ]
     },
     "execution_count": 9,
     "metadata": {},
     "output_type": "execute_result"
    }
   ],
   "source": [
    "# Vérifier la structure de l'objet iris\n",
    "iris.keys()"
   ]
  },
  {
   "cell_type": "code",
   "execution_count": 10,
   "metadata": {
    "id": "ucnIP8WiJRbZ"
   },
   "outputs": [
    {
     "name": "stdout",
     "output_type": "stream",
     "text": [
      "['sepal length (cm)', 'sepal width (cm)', 'petal length (cm)', 'petal width (cm)']\n",
      "['setosa' 'versicolor' 'virginica']\n"
     ]
    }
   ],
   "source": [
    "# Afficher les noms des variables explicatives\n",
    "print(iris.feature_names)\n",
    "\n",
    "# Afficher le nom de la variable cible\n",
    "print(iris.target_names)"
   ]
  },
  {
   "cell_type": "code",
   "execution_count": 11,
   "metadata": {
    "id": "EUNVuQYZImUS"
   },
   "outputs": [],
   "source": [
    "# Assigner à X les variables explicative et dans y la variable cible\n",
    "X = iris.data\n",
    "y = iris.target\n"
   ]
  },
  {
   "cell_type": "code",
   "execution_count": 12,
   "metadata": {
    "id": "dAuTsB6mTpLv"
   },
   "outputs": [
    {
     "data": {
      "text/html": [
       "<div>\n",
       "<style scoped>\n",
       "    .dataframe tbody tr th:only-of-type {\n",
       "        vertical-align: middle;\n",
       "    }\n",
       "\n",
       "    .dataframe tbody tr th {\n",
       "        vertical-align: top;\n",
       "    }\n",
       "\n",
       "    .dataframe thead th {\n",
       "        text-align: right;\n",
       "    }\n",
       "</style>\n",
       "<table border=\"1\" class=\"dataframe\">\n",
       "  <thead>\n",
       "    <tr style=\"text-align: right;\">\n",
       "      <th></th>\n",
       "      <th>sepal length (cm)</th>\n",
       "      <th>sepal width (cm)</th>\n",
       "      <th>petal length (cm)</th>\n",
       "      <th>petal width (cm)</th>\n",
       "    </tr>\n",
       "  </thead>\n",
       "  <tbody>\n",
       "    <tr>\n",
       "      <th>0</th>\n",
       "      <td>5.1</td>\n",
       "      <td>3.5</td>\n",
       "      <td>1.4</td>\n",
       "      <td>0.2</td>\n",
       "    </tr>\n",
       "    <tr>\n",
       "      <th>1</th>\n",
       "      <td>4.9</td>\n",
       "      <td>3.0</td>\n",
       "      <td>1.4</td>\n",
       "      <td>0.2</td>\n",
       "    </tr>\n",
       "    <tr>\n",
       "      <th>2</th>\n",
       "      <td>4.7</td>\n",
       "      <td>3.2</td>\n",
       "      <td>1.3</td>\n",
       "      <td>0.2</td>\n",
       "    </tr>\n",
       "    <tr>\n",
       "      <th>3</th>\n",
       "      <td>4.6</td>\n",
       "      <td>3.1</td>\n",
       "      <td>1.5</td>\n",
       "      <td>0.2</td>\n",
       "    </tr>\n",
       "    <tr>\n",
       "      <th>4</th>\n",
       "      <td>5.0</td>\n",
       "      <td>3.6</td>\n",
       "      <td>1.4</td>\n",
       "      <td>0.2</td>\n",
       "    </tr>\n",
       "    <tr>\n",
       "      <th>5</th>\n",
       "      <td>5.4</td>\n",
       "      <td>3.9</td>\n",
       "      <td>1.7</td>\n",
       "      <td>0.4</td>\n",
       "    </tr>\n",
       "    <tr>\n",
       "      <th>6</th>\n",
       "      <td>4.6</td>\n",
       "      <td>3.4</td>\n",
       "      <td>1.4</td>\n",
       "      <td>0.3</td>\n",
       "    </tr>\n",
       "    <tr>\n",
       "      <th>7</th>\n",
       "      <td>5.0</td>\n",
       "      <td>3.4</td>\n",
       "      <td>1.5</td>\n",
       "      <td>0.2</td>\n",
       "    </tr>\n",
       "    <tr>\n",
       "      <th>8</th>\n",
       "      <td>4.4</td>\n",
       "      <td>2.9</td>\n",
       "      <td>1.4</td>\n",
       "      <td>0.2</td>\n",
       "    </tr>\n",
       "    <tr>\n",
       "      <th>9</th>\n",
       "      <td>4.9</td>\n",
       "      <td>3.1</td>\n",
       "      <td>1.5</td>\n",
       "      <td>0.1</td>\n",
       "    </tr>\n",
       "  </tbody>\n",
       "</table>\n",
       "</div>"
      ],
      "text/plain": [
       "   sepal length (cm)  sepal width (cm)  petal length (cm)  petal width (cm)\n",
       "0                5.1               3.5                1.4               0.2\n",
       "1                4.9               3.0                1.4               0.2\n",
       "2                4.7               3.2                1.3               0.2\n",
       "3                4.6               3.1                1.5               0.2\n",
       "4                5.0               3.6                1.4               0.2\n",
       "5                5.4               3.9                1.7               0.4\n",
       "6                4.6               3.4                1.4               0.3\n",
       "7                5.0               3.4                1.5               0.2\n",
       "8                4.4               2.9                1.4               0.2\n",
       "9                4.9               3.1                1.5               0.1"
      ]
     },
     "execution_count": 12,
     "metadata": {},
     "output_type": "execute_result"
    }
   ],
   "source": [
    "# converir le \"array\" X en dataframe df_X et ajouter le nom des colonnes\n",
    "df_X=pd.DataFrame(X,columns=iris.feature_names)\n",
    "\n",
    "# Afficher les 10 premières lignes\n",
    "df_X.head(10)"
   ]
  },
  {
   "cell_type": "code",
   "execution_count": 13,
   "metadata": {
    "id": "c2HiGt4mUIMs"
   },
   "outputs": [
    {
     "data": {
      "text/html": [
       "<div>\n",
       "<style scoped>\n",
       "    .dataframe tbody tr th:only-of-type {\n",
       "        vertical-align: middle;\n",
       "    }\n",
       "\n",
       "    .dataframe tbody tr th {\n",
       "        vertical-align: top;\n",
       "    }\n",
       "\n",
       "    .dataframe thead th {\n",
       "        text-align: right;\n",
       "    }\n",
       "</style>\n",
       "<table border=\"1\" class=\"dataframe\">\n",
       "  <thead>\n",
       "    <tr style=\"text-align: right;\">\n",
       "      <th></th>\n",
       "      <th>target_y</th>\n",
       "    </tr>\n",
       "  </thead>\n",
       "  <tbody>\n",
       "    <tr>\n",
       "      <th>0</th>\n",
       "      <td>0</td>\n",
       "    </tr>\n",
       "    <tr>\n",
       "      <th>1</th>\n",
       "      <td>0</td>\n",
       "    </tr>\n",
       "    <tr>\n",
       "      <th>2</th>\n",
       "      <td>0</td>\n",
       "    </tr>\n",
       "    <tr>\n",
       "      <th>3</th>\n",
       "      <td>0</td>\n",
       "    </tr>\n",
       "    <tr>\n",
       "      <th>4</th>\n",
       "      <td>0</td>\n",
       "    </tr>\n",
       "    <tr>\n",
       "      <th>5</th>\n",
       "      <td>0</td>\n",
       "    </tr>\n",
       "    <tr>\n",
       "      <th>6</th>\n",
       "      <td>0</td>\n",
       "    </tr>\n",
       "    <tr>\n",
       "      <th>7</th>\n",
       "      <td>0</td>\n",
       "    </tr>\n",
       "    <tr>\n",
       "      <th>8</th>\n",
       "      <td>0</td>\n",
       "    </tr>\n",
       "    <tr>\n",
       "      <th>9</th>\n",
       "      <td>0</td>\n",
       "    </tr>\n",
       "  </tbody>\n",
       "</table>\n",
       "</div>"
      ],
      "text/plain": [
       "   target_y\n",
       "0         0\n",
       "1         0\n",
       "2         0\n",
       "3         0\n",
       "4         0\n",
       "5         0\n",
       "6         0\n",
       "7         0\n",
       "8         0\n",
       "9         0"
      ]
     },
     "execution_count": 13,
     "metadata": {},
     "output_type": "execute_result"
    }
   ],
   "source": [
    "# Créer un dataframe df_y qui contient la colonne cible y\n",
    "df_y=pd.DataFrame(y,columns=['target_y'])\n",
    "\n",
    "# Afficher les 10 premières lignes de df_y\n",
    "df_y.head(10)"
   ]
  },
  {
   "cell_type": "code",
   "execution_count": 14,
   "metadata": {
    "id": "3dNxiQy1WspE"
   },
   "outputs": [
    {
     "data": {
      "text/html": [
       "<div>\n",
       "<style scoped>\n",
       "    .dataframe tbody tr th:only-of-type {\n",
       "        vertical-align: middle;\n",
       "    }\n",
       "\n",
       "    .dataframe tbody tr th {\n",
       "        vertical-align: top;\n",
       "    }\n",
       "\n",
       "    .dataframe thead th {\n",
       "        text-align: right;\n",
       "    }\n",
       "</style>\n",
       "<table border=\"1\" class=\"dataframe\">\n",
       "  <thead>\n",
       "    <tr style=\"text-align: right;\">\n",
       "      <th></th>\n",
       "      <th>target_y</th>\n",
       "      <th>y</th>\n",
       "    </tr>\n",
       "  </thead>\n",
       "  <tbody>\n",
       "    <tr>\n",
       "      <th>0</th>\n",
       "      <td>0</td>\n",
       "      <td>setosa</td>\n",
       "    </tr>\n",
       "    <tr>\n",
       "      <th>1</th>\n",
       "      <td>0</td>\n",
       "      <td>setosa</td>\n",
       "    </tr>\n",
       "    <tr>\n",
       "      <th>2</th>\n",
       "      <td>0</td>\n",
       "      <td>setosa</td>\n",
       "    </tr>\n",
       "    <tr>\n",
       "      <th>3</th>\n",
       "      <td>0</td>\n",
       "      <td>setosa</td>\n",
       "    </tr>\n",
       "    <tr>\n",
       "      <th>4</th>\n",
       "      <td>0</td>\n",
       "      <td>setosa</td>\n",
       "    </tr>\n",
       "    <tr>\n",
       "      <th>5</th>\n",
       "      <td>0</td>\n",
       "      <td>setosa</td>\n",
       "    </tr>\n",
       "    <tr>\n",
       "      <th>6</th>\n",
       "      <td>0</td>\n",
       "      <td>setosa</td>\n",
       "    </tr>\n",
       "    <tr>\n",
       "      <th>7</th>\n",
       "      <td>0</td>\n",
       "      <td>setosa</td>\n",
       "    </tr>\n",
       "    <tr>\n",
       "      <th>8</th>\n",
       "      <td>0</td>\n",
       "      <td>setosa</td>\n",
       "    </tr>\n",
       "    <tr>\n",
       "      <th>9</th>\n",
       "      <td>0</td>\n",
       "      <td>setosa</td>\n",
       "    </tr>\n",
       "  </tbody>\n",
       "</table>\n",
       "</div>"
      ],
      "text/plain": [
       "   target_y       y\n",
       "0         0  setosa\n",
       "1         0  setosa\n",
       "2         0  setosa\n",
       "3         0  setosa\n",
       "4         0  setosa\n",
       "5         0  setosa\n",
       "6         0  setosa\n",
       "7         0  setosa\n",
       "8         0  setosa\n",
       "9         0  setosa"
      ]
     },
     "execution_count": 14,
     "metadata": {},
     "output_type": "execute_result"
    }
   ],
   "source": [
    "# Ajouter à df_y une colonne \"label\" avec le nom des modalité de la cible\n",
    "iris_mapping = {0: 'setosa', 1: 'versicolor', 2: 'virginica'}\n",
    "# df_y = df_y.assign(y=df_y.target_y.map(iris_mapping))\n",
    "\n",
    "# Afficher les 10 premières lignes de df_y avec la colonne \"label\"\n",
    "df_y = df_y.assign(y=df_y.target_y.map(iris_mapping))\n",
    "\n",
    "# Afficher les 10 premières lignes de df_y avec la colonne \"label\"\n",
    "\n",
    "df_y.head(10)"
   ]
  },
  {
   "cell_type": "markdown",
   "metadata": {
    "id": "rttkhWAMHTos"
   },
   "source": [
    "### <font color=\"orange\">Visualiser les données Iris</font>"
   ]
  },
  {
   "cell_type": "code",
   "execution_count": 15,
   "metadata": {
    "id": "WUryp6q5HS5U"
   },
   "outputs": [],
   "source": [
    "from plotnine.data import mpg\n",
    "from plotnine import ggplot, aes, facet_grid, labs, geom_point, theme_xkcd"
   ]
  },
  {
   "cell_type": "code",
   "execution_count": 16,
   "metadata": {
    "id": "kJPzrshaN3Fs"
   },
   "outputs": [],
   "source": [
    "# créer df_Xy qui contient les df_X et df_y\n",
    "\n",
    "df_XY = pd.concat([df_X, df_y], axis=1)\n",
    "\n",
    "p = (\n",
    "    ggplot(df_XY, aes(x='sepal length (cm)', y='sepal width (cm)', color='y')) +\n",
    "    geom_point() +\n",
    "    labs(title='Iris Dataset: Sepal Width vs Sepal Length', x='Sepal Length (cm)', y='Sepal Width (cm)')\n",
    ")"
   ]
  },
  {
   "cell_type": "markdown",
   "metadata": {
    "id": "U1hkk_9FN7rn"
   },
   "source": []
  },
  {
   "cell_type": "code",
   "execution_count": null,
   "metadata": {
    "id": "puFZojVsL_S0"
   },
   "outputs": [],
   "source": [
    "### Rajouter la couleur en fonction du type de variété\n",
    "\n",
    "df_XY=pd.concat([df_X,df_y],axis=1)\n",
    "p = (\n",
    "\n",
    ")\n",
    "\n",
    "p"
   ]
  },
  {
   "cell_type": "markdown",
   "metadata": {
    "id": "SnOh5GfhgZ2l"
   },
   "source": [
    "###  <font color=\"orange\"> Modélisation:Deep learning </font>"
   ]
  },
  {
   "cell_type": "markdown",
   "metadata": {
    "id": "zlB8nuCrsJ4d"
   },
   "source": [
    "#### <font color=\"blue\"> A) Modèle avec 1 seul neurone en sortie </font>"
   ]
  },
  {
   "cell_type": "markdown",
   "metadata": {
    "id": "7cjN39D0NKyl"
   },
   "source": [
    "##### Préparation des données"
   ]
  },
  {
   "cell_type": "markdown",
   "metadata": {
    "id": "-sAR8FF9VczB"
   },
   "source": [
    "###### a) Filtrer les observations pour ne conserver que les variétés \"Virginica\" et \"versicolor\""
   ]
  },
  {
   "cell_type": "code",
   "execution_count": null,
   "metadata": {
    "id": "AJj85nG15ZcM"
   },
   "outputs": [],
   "source": [
    "df_y.groupby(['label', 'y']).size().reset_index(name='count')"
   ]
  },
  {
   "cell_type": "code",
   "execution_count": null,
   "metadata": {
    "id": "ltDLfAYcSbiL"
   },
   "outputs": [],
   "source": [
    "## supprimer les lignes correspondant à setosa\n",
    "df_y2=df_y[df_y.label!=\"setosa\"]\n",
    "df_X2=df_X[df_y.label!=\"setosa\"]"
   ]
  },
  {
   "cell_type": "markdown",
   "metadata": {
    "id": "rKQolueMVpwS"
   },
   "source": [
    "###### b) Binarisation de la variable cible avec la fonction \"to_categorical\""
   ]
  },
  {
   "cell_type": "code",
   "execution_count": null,
   "metadata": {
    "id": "Qsctv6oE6E8p"
   },
   "outputs": [],
   "source": [
    "from sklearn.preprocessing import OneHotEncoder\n",
    "\n",
    "encoder = OneHotEncoder()\n",
    "\n",
    "# Apprentissage et transformation\n",
    "y_recode = encoder.fit_transform()\n",
    "y_recode = pd.DataFrame, columns=)\n",
    "y_recode"
   ]
  },
  {
   "cell_type": "code",
   "execution_count": null,
   "metadata": {
    "id": "KLIFzZrBSls_"
   },
   "outputs": [],
   "source": [
    "# Ne garder que la variable qui encode versicolor\n",
    "y_recode=y_recode[\"label_versicolor\"]\n",
    "y_recode.rename(\"versicolor\", inplace=True)\n",
    "y_recode.head()"
   ]
  },
  {
   "cell_type": "markdown",
   "metadata": {
    "id": "tOxdIlywWe8e"
   },
   "source": [
    "###### c) Créer les jeux de calibration & validation"
   ]
  },
  {
   "cell_type": "code",
   "execution_count": null,
   "metadata": {
    "id": "-gEDwVqYWdoZ"
   },
   "outputs": [],
   "source": [
    "x_train, x_test, y_train, y_test = train_test_split(df_X2, y_recode, test_size=0.30,  stratify=y_recode, shuffle=True)\n",
    "\n",
    "print(\"Training Input shape\\t: {}\".format(x_train.shape))\n",
    "print(\"Testing Input shape\\t: {}\".format(x_test.shape))\n",
    "print(\"Training Output shape\\t: {}\".format(y_train.shape))\n",
    "print(\"Testing Output shape\\t: {}\".format(y_test.shape))"
   ]
  },
  {
   "cell_type": "code",
   "execution_count": null,
   "metadata": {
    "id": "daR9rC3pCis_"
   },
   "outputs": [],
   "source": [
    "from sklearn.preprocessing import StandardScaler\n",
    "scaler = StandardScaler()\n",
    "x_train = scaler.fit_transform(x_train)\n",
    "x_test = scaler.transform(x_test)"
   ]
  },
  {
   "cell_type": "markdown",
   "metadata": {
    "id": "9kutalb4lbMu"
   },
   "source": [
    "##### Construction du modèle"
   ]
  },
  {
   "cell_type": "code",
   "execution_count": null,
   "metadata": {
    "id": "40B2ZDQOsMlF"
   },
   "outputs": [],
   "source": [
    "# construction du modèle\n",
    "\n",
    "# ajouter une couche d'entrée en précisant le nombre d'input\n",
    "\n",
    "# ajouter la couche de sortie composé de 1 neurone avec une fonction d'activation sigmoïde\n"
   ]
  },
  {
   "cell_type": "code",
   "execution_count": null,
   "metadata": {
    "id": "9dZkazEFsSBk"
   },
   "outputs": [],
   "source": [
    "# Afficher la structure du modèle\n"
   ]
  },
  {
   "cell_type": "code",
   "execution_count": null,
   "metadata": {
    "id": "TbfqI6gesRzD"
   },
   "outputs": [],
   "source": [
    "# Préciser les paramètres d'optimisation du modèle (loss, optimizer et metrics)\n"
   ]
  },
  {
   "cell_type": "code",
   "execution_count": null,
   "metadata": {
    "id": "OTjjrmS_nnM5"
   },
   "outputs": [],
   "source": [
    "# Rajouter un Checkpoint pour sauvegarder le meilleur modèle selon la validation loss et éviter le surajustement\n",
    "from keras.callbacks import ModelCheckpoint\n",
    "\n",
    "checkpoint = ModelCheckpoint(\n",
    "   'best_model.h5',\n",
    "    monitor='val_loss',\n",
    "    save_best_only=True,\n",
    "    mode='min',\n",
    "    verbose=1\n",
    ")\n"
   ]
  },
  {
   "cell_type": "markdown",
   "metadata": {
    "id": "49GyVi8_lidn"
   },
   "source": [
    "##### Ajustement du modèlesur les données d'entrainement"
   ]
  },
  {
   "cell_type": "code",
   "execution_count": null,
   "metadata": {
    "id": "y3xa9dGjt6GA"
   },
   "outputs": [],
   "source": [
    "history= model.fit()"
   ]
  },
  {
   "cell_type": "markdown",
   "metadata": {
    "id": "ZCA0cgi1lsbn"
   },
   "source": [
    "##### Visualisation de l'ajustement et recheche du meilleur modèle"
   ]
  },
  {
   "cell_type": "code",
   "execution_count": null,
   "metadata": {
    "id": "NXO_qKTvz3Ny"
   },
   "outputs": [],
   "source": [
    "import matplotlib.pyplot as plt\n",
    "plt.plot(history.history['loss'], label='Train Loss')\n",
    "plt.plot(history.history['val_loss'], label='Validation Loss')\n",
    "plt.xlabel('Epoch')\n",
    "plt.ylabel('Loss')\n",
    "plt.title('Courbe de Loss')\n",
    "plt.legend()\n",
    "plt.grid(True)\n",
    "plt.show()"
   ]
  },
  {
   "cell_type": "code",
   "execution_count": null,
   "metadata": {
    "id": "8FNRSFmE_Zni"
   },
   "outputs": [],
   "source": [
    "best_epoch =\n",
    "print(f\"Meilleur epoch selon validation loss : {best_epoch}\")"
   ]
  },
  {
   "cell_type": "code",
   "execution_count": null,
   "metadata": {
    "id": "6loKGxZIoCGw"
   },
   "outputs": [],
   "source": [
    "from keras.models import load_model\n",
    "\n",
    "best_model = load_model()\n"
   ]
  },
  {
   "cell_type": "code",
   "execution_count": null,
   "metadata": {
    "id": "JCqw-qn84pK1"
   },
   "outputs": [],
   "source": [
    "loss, accuracy = best_model.evaluate(x_test, y_test)\n",
    "print(f\"Test accuracy: {accuracy}\")"
   ]
  },
  {
   "cell_type": "markdown",
   "metadata": {
    "id": "axc6KkN33sM4"
   },
   "source": [
    "##### Prédiction sur les données de test\n",
    "\n",
    "\n",
    "\n"
   ]
  },
  {
   "cell_type": "code",
   "execution_count": null,
   "metadata": {
    "id": "nB7eM_hGt5-h"
   },
   "outputs": [],
   "source": [
    "# Appliquer le modèle pour prédire les variétés des Iris du jeu de test et stoker dans \"y_test_pred\"\n",
    "y_test_pred=\n",
    "# créer un data frame df_y_test_pred\n",
    "df_y_test_pred=pd.DataFrame(,columns=[''],index=y_test.index)\n",
    "df_y_test_pred.head()"
   ]
  },
  {
   "cell_type": "markdown",
   "metadata": {
    "id": "UEUfz8Mg35dx"
   },
   "source": [
    "##### *Recoder les probabilités en \"Virginica\" et \"Versicolor\"*"
   ]
  },
  {
   "cell_type": "code",
   "execution_count": null,
   "metadata": {
    "id": "QBL8-K0iCUeG"
   },
   "outputs": [],
   "source": [
    "# ajouter une colonne label qui contient le nom de la variété : si prob < 0.5 \"virginica\" si prob >= 0.5 versicolor\n",
    "df_y_test_pred ="
   ]
  },
  {
   "cell_type": "markdown",
   "metadata": {
    "id": "C6fQEe8j4IyF"
   },
   "source": [
    "##### *Ajouter les valeurs observées et les labels correspondant*"
   ]
  },
  {
   "cell_type": "code",
   "execution_count": null,
   "metadata": {
    "id": "4M0dbAKgELdz"
   },
   "outputs": [],
   "source": [
    "# ajouter une colonne y_obs qui contient la vraie valeur y_test\n",
    "df_y_test_pred['y_obs']=\n",
    "\n",
    "# ajouter une colonne 'label_obs' qui contient le nom de la variété : si prob < 0.5 \"virginica\" si prob >= 0.5 versicolor\n",
    "df_y_test_pred =\n",
    "df_y_test_pred.head()"
   ]
  },
  {
   "cell_type": "markdown",
   "metadata": {
    "id": "qUpZXftZ4XiT"
   },
   "source": [
    "##### Evaluer la Performance du modèle"
   ]
  },
  {
   "cell_type": "code",
   "execution_count": null,
   "metadata": {
    "id": "RUXD9JuoEm3N"
   },
   "outputs": [],
   "source": [
    "##matrice de confusion\n",
    "from sklearn import metrics\n",
    "from sklearn.metrics import f1_score\n",
    "from sklearn.metrics import confusion_matrix"
   ]
  },
  {
   "cell_type": "code",
   "execution_count": null,
   "metadata": {
    "id": "4gzZIihHEp85"
   },
   "outputs": [],
   "source": [
    "print(\"Matrice de confusion:\")\n",
    "cm =\n",
    "print(pd.DataFrame(cm))\n",
    "print(metrics.classification_report())"
   ]
  },
  {
   "cell_type": "code",
   "execution_count": null,
   "metadata": {
    "id": "GQzGoCGEzGNk"
   },
   "outputs": [],
   "source": [
    "model.get_weights()"
   ]
  },
  {
   "cell_type": "markdown",
   "metadata": {
    "id": "F3ROooag_hfE"
   },
   "source": [
    "##### Comparaison avec une régression logistique"
   ]
  },
  {
   "cell_type": "code",
   "execution_count": null,
   "metadata": {
    "id": "IfnuYUwRFols"
   },
   "outputs": [],
   "source": [
    "from sklearn.linear_model import LogisticRegression # import de la classe\n",
    "\n",
    "modelrl = LogisticRegression(C=10^5) # construction d'un objet de Régression logistique\n",
    "modelrl.fit(x_train, y_train) # Entrainement du modèle\n"
   ]
  },
  {
   "cell_type": "code",
   "execution_count": null,
   "metadata": {
    "id": "4maWPnN3Gm-C"
   },
   "outputs": [],
   "source": [
    "modelrl.coef_"
   ]
  },
  {
   "cell_type": "code",
   "execution_count": null,
   "metadata": {
    "id": "_SbZ1JLXGeAG"
   },
   "outputs": [],
   "source": [
    "df_y_test_pred['ypred_lr']=modelrl.predict_proba(x_test)[:,1]"
   ]
  },
  {
   "cell_type": "code",
   "execution_count": null,
   "metadata": {
    "id": "TrqDBZf1fq6-"
   },
   "outputs": [],
   "source": [
    "df_y_test_pred.head(n=10)"
   ]
  },
  {
   "cell_type": "code",
   "execution_count": null,
   "metadata": {
    "id": "yXDKyHHkfZzI"
   },
   "outputs": [],
   "source": [
    "\n",
    "(\n",
    "    ggplot(df_y_test_pred)\n",
    "    + aes(x='prob', y='ypred_lr')\n",
    "    + labs(\n",
    "        x=\"nn\",\n",
    "        y=\"lr\",\n",
    "        title=\"comp. nn vs lr\",\n",
    "    )\n",
    "    + geom_point()\n",
    "\n",
    "\n",
    ")"
   ]
  },
  {
   "cell_type": "markdown",
   "metadata": {
    "id": "OyAIRIO2mHOv"
   },
   "source": [
    "**Quels sont vos commentaires ou remarques :**\n",
    "\n",
    "\n",
    "*   \n",
    "*   \n",
    "\n"
   ]
  },
  {
   "cell_type": "markdown",
   "metadata": {
    "id": "O8IOa8pkBIHE"
   },
   "source": [
    "#### <font color=\"blue\"> B) Modèle avec 3 neurones en sortie : Setosa, Virginica et Versicolor </font>"
   ]
  },
  {
   "cell_type": "code",
   "execution_count": null,
   "metadata": {
    "id": "_48ikssmB6Cz"
   },
   "outputs": [],
   "source": [
    "from sklearn.preprocessing import OneHotEncoder\n",
    "\n",
    "encoder = OneHotEncoder()\n",
    "\n",
    "# Apprentissage et transformation\n",
    "y_recode = encoder.fit_transform(df_y[['label']])\n",
    "y_recode = pd.DataFrame(y_recode.toarray(), columns=encoder.get_feature_names_out())\n",
    "y_recode.head()"
   ]
  },
  {
   "cell_type": "code",
   "execution_count": null,
   "metadata": {
    "id": "w__DWbVbCBDy"
   },
   "outputs": [],
   "source": [
    "y_recode.columns = iris.target_names\n",
    "y_recode.head()"
   ]
  },
  {
   "cell_type": "code",
   "execution_count": null,
   "metadata": {
    "id": "gBEtQffo7o4l"
   },
   "outputs": [],
   "source": [
    "x_train, x_test, y_train, y_test = train_test_split(df_X, y_recode, test_size=0.30,  stratify=y_recode, shuffle=True)\n",
    "\n",
    "print(\"Training Input shape\\t: {}\".format(x_train.shape))\n",
    "print(\"Testing Input shape\\t: {}\".format(x_test.shape))\n",
    "print(\"Training Output shape\\t: {}\".format(y_train.shape))\n",
    "print(\"Testing Output shape\\t: {}\".format(y_test.shape))"
   ]
  },
  {
   "cell_type": "code",
   "execution_count": null,
   "metadata": {
    "id": "51VH1pqaEHpr"
   },
   "outputs": [],
   "source": [
    "from sklearn.preprocessing import StandardScaler\n",
    "scaler = StandardScaler()\n",
    "x_train = scaler.fit_transform(x_train)\n",
    "x_test = scaler.transform(x_test)"
   ]
  },
  {
   "cell_type": "code",
   "execution_count": null,
   "metadata": {
    "id": "sZVTrobfC5bS"
   },
   "outputs": [],
   "source": [
    "# construction du modèle\n",
    "\n",
    "# ajouter une couche d'entrée en précisant le nombre d'input\n",
    "\n",
    "# Préciser les paramètres d'optimisation du modèle (loss, optimizer et metrics)\n",
    "\n"
   ]
  },
  {
   "cell_type": "code",
   "execution_count": null,
   "metadata": {
    "id": "bmx0kzq6FhxL"
   },
   "outputs": [],
   "source": [
    "from keras.callbacks import ModelCheckpoint\n",
    "\n",
    "checkpoint = ModelCheckpoint(\n",
    "   'best_model_2.h5',\n",
    "    monitor='val_loss',\n",
    "    save_best_only=True,\n",
    "    mode='min',\n",
    "    verbose=1\n",
    ")\n"
   ]
  },
  {
   "cell_type": "code",
   "execution_count": null,
   "metadata": {
    "id": "pxE74x3qC7VH"
   },
   "outputs": [],
   "source": [
    "# ajustement du modèle (Enregistrer le temps CPU vs GPU)\n",
    "#model.fit(x_train, y_train, batch_size=70, epochs=100, verbose=0)\n",
    "history = model.fit()"
   ]
  },
  {
   "cell_type": "code",
   "execution_count": null,
   "metadata": {
    "id": "iSq22aGaEki1"
   },
   "outputs": [],
   "source": [
    "import matplotlib.pyplot as plt\n",
    "plt.plot(history.history['loss'], label='Train Loss')\n",
    "plt.plot(history.history['val_loss'], label='Validation Loss')\n",
    "plt.xlabel('Epoch')\n",
    "plt.ylabel('Loss')\n",
    "plt.title('Courbe de Loss')\n",
    "plt.legend()\n",
    "plt.grid(True)\n",
    "plt.show()"
   ]
  },
  {
   "cell_type": "code",
   "execution_count": null,
   "metadata": {
    "id": "M-P3_QGQE9Si"
   },
   "outputs": [],
   "source": [
    "from keras.models import load_model\n",
    "\n",
    "best_model = load_model()"
   ]
  },
  {
   "cell_type": "code",
   "execution_count": null,
   "metadata": {
    "id": "DCsDJKgtC_eG"
   },
   "outputs": [],
   "source": [
    "# Appliquer le modèle pour prédire les variétés des Iris du jeu de test et stoker dans \"y_test_pred\"\n",
    "y_test_pred=best_model.predict(x_test)\n",
    "\n",
    "# créer un data frame df_y_test_pred\n",
    "df_y_test_pred=pd.DataFrame(y_test_pred,columns=['setosa','versicolor','virginica'],index=y_test.index)\n",
    "## selectionner la colonne qui a la plus grande probabilité\n",
    "df_y_test_pred=df_y_test_pred.idxmax(axis=\"columns\")\n",
    "df_y_test=y_test.idxmax(axis=\"columns\")\n",
    "\n",
    "## concatener predictions et observées\n",
    "df_y_test_pred= pd.concat([df_y_test,df_y_test_pred],keys=[\"obs\",\"pred\"],axis=1)\n",
    "df_y_test_pred.head()"
   ]
  },
  {
   "cell_type": "code",
   "execution_count": null,
   "metadata": {
    "collapsed": true,
    "id": "yUj9mtQgC_cS"
   },
   "outputs": [],
   "source": [
    "\n",
    "print(\"Matrice de confusion:\")\n",
    "cm = confusion_matrix(df_y_test_pred.obs,df_y_test_pred.pred)\n",
    "print(pd.DataFrame(cm))\n",
    "print(metrics.classification_report(df_y_test_pred.obs, df_y_test_pred.pred, digits=3))"
   ]
  },
  {
   "cell_type": "markdown",
   "metadata": {
    "id": "bMcwZEnIEt0W"
   },
   "source": [
    "#### <font color=\"blue\"> C) Modèle avec 1 couche cachée et 3 neurones en sortie : Setosa, Virginica et Versicolor</font>"
   ]
  },
  {
   "cell_type": "code",
   "execution_count": null,
   "metadata": {
    "id": "-O95-Fu18AOO"
   },
   "outputs": [],
   "source": [
    "# Rajouter à votre modèle une couche cachée avec 3 neurones juste avant la couche de sortie et l'entrainer puis le valider.\n",
    "\n"
   ]
  },
  {
   "cell_type": "code",
   "execution_count": null,
   "metadata": {
    "id": "qeTVEB52ZgY-"
   },
   "outputs": [],
   "source": [
    "# Rajouter à votre modèle une couche drop out après chaque couche caché, qu'est ce que vous observez?"
   ]
  }
 ],
 "metadata": {
  "accelerator": "GPU",
  "colab": {
   "gpuType": "T4",
   "provenance": [
    {
     "file_id": "1m1EfhP_6ipNA8HQghvIOvak9D2RfTLrN",
     "timestamp": 1748980210550
    },
    {
     "file_id": "1jfZaE6UNQLQgVbekWD3cuBng0REK6pMm",
     "timestamp": 1710952216174
    }
   ]
  },
  "gpuClass": "standard",
  "kernelspec": {
   "display_name": ".venv",
   "language": "python",
   "name": "python3"
  },
  "language_info": {
   "codemirror_mode": {
    "name": "ipython",
    "version": 3
   },
   "file_extension": ".py",
   "mimetype": "text/x-python",
   "name": "python",
   "nbconvert_exporter": "python",
   "pygments_lexer": "ipython3",
   "version": "3.11.9"
  }
 },
 "nbformat": 4,
 "nbformat_minor": 0
}
