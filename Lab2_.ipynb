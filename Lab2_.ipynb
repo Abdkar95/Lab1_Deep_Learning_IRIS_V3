{
 "cells": [
  {
   "cell_type": "code",
   "execution_count": 47,
   "id": "630c44a9",
   "metadata": {},
   "outputs": [],
   "source": [
    "import pandas as pd\n",
    "import numpy as np\n",
    "import matplotlib.pyplot as plt\n",
    "%matplotlib inline\n",
    "\n",
    "from tensorflow.keras import Input\n",
    "from tensorflow.keras.models import Sequential\n",
    "from tensorflow.keras.layers import Dense, Dropout, Activation, Flatten, BatchNormalization, Activation, Conv2D, MaxPool2D\n",
    "from tensorflow.keras.utils import to_categorical\n",
    "from tensorflow.keras.datasets import mnist\n",
    "from tensorflow.keras.metrics import F1Score\n",
    "\n",
    "from sklearn.datasets import load_iris\n",
    "from sklearn.model_selection import train_test_split"
   ]
  },
  {
   "cell_type": "markdown",
   "id": "705f0488",
   "metadata": {},
   "source": [
    "## Chargement des données"
   ]
  },
  {
   "cell_type": "code",
   "execution_count": 48,
   "id": "1aca64f4",
   "metadata": {},
   "outputs": [],
   "source": [
    "mnist = mnist.load_data()"
   ]
  },
  {
   "cell_type": "code",
   "execution_count": 49,
   "id": "d1abaabd",
   "metadata": {},
   "outputs": [],
   "source": [
    "# Chargement des données MNIST : Les données sont déjà divisées en ensembles d'entraînement et de test et sont prêtes à être utilisées. \n",
    "# Les images sont de taille 28x28 pixels et les étiquettes sont des chiffres de 0 à 9.\n",
    "\n",
    "(X_train, y_train), (X_test, y_test) = mnist "
   ]
  },
  {
   "cell_type": "code",
   "execution_count": 50,
   "id": "a842b404",
   "metadata": {},
   "outputs": [
    {
     "name": "stdout",
     "output_type": "stream",
     "text": [
      "Taille des données d'entraînement : (60000, 28, 28) (60000,)\n",
      "Taille des données de test : (10000, 28, 28) (10000,)\n"
     ]
    }
   ],
   "source": [
    "# Taille des données\n",
    "print(\"Taille des données d'entraînement :\", X_train.shape, y_train.shape) \n",
    "print(\"Taille des données de test :\", X_test.shape, y_test.shape)"
   ]
  },
  {
   "cell_type": "code",
   "execution_count": 54,
   "id": "b1ee85d3",
   "metadata": {},
   "outputs": [
    {
     "data": {
      "text/plain": [
       "array([[  0,   0,   0,   0,   0,   0,   0,   0,   0,   0,   0,   0,   0,\n",
       "          0,   0,   0,   0,   0,   0,   0,   0,   0,   0,   0,   0,   0,\n",
       "          0,   0],\n",
       "       [  0,   0,   0,   0,   0,   0,   0,   0,   0,   0,   0,   0,   0,\n",
       "          0,   0,   0,   0,   0,   0,   0,   0,   0,   0,   0,   0,   0,\n",
       "          0,   0],\n",
       "       [  0,   0,   0,   0,   0,   0,   0,   0,   0,   0,   0,   0,   0,\n",
       "          0,   0,   0,   0,   0,   0,   0,   0,   0,   0,   0,   0,   0,\n",
       "          0,   0],\n",
       "       [  0,   0,   0,   0,   0,   0,   0,   0,   0,   0,   0,   0,   0,\n",
       "          0,   0,   0,   0,   0,   0,   0,   0,   0,   0,   0,   0,   0,\n",
       "          0,   0],\n",
       "       [  0,   0,   0,   0,   0,   0,   0,   0,   0,   0,   0,   0,   0,\n",
       "          0,   0,   0,   0,   0,   0,   0,   0,   0,   0,   0,   0,   0,\n",
       "          0,   0],\n",
       "       [  0,   0,   0,   0,   0,   0,   0,   0,   0,   0,   0,   0,   3,\n",
       "         18,  18,  18, 126, 136, 175,  26, 166, 255, 247, 127,   0,   0,\n",
       "          0,   0],\n",
       "       [  0,   0,   0,   0,   0,   0,   0,   0,  30,  36,  94, 154, 170,\n",
       "        253, 253, 253, 253, 253, 225, 172, 253, 242, 195,  64,   0,   0,\n",
       "          0,   0],\n",
       "       [  0,   0,   0,   0,   0,   0,   0,  49, 238, 253, 253, 253, 253,\n",
       "        253, 253, 253, 253, 251,  93,  82,  82,  56,  39,   0,   0,   0,\n",
       "          0,   0],\n",
       "       [  0,   0,   0,   0,   0,   0,   0,  18, 219, 253, 253, 253, 253,\n",
       "        253, 198, 182, 247, 241,   0,   0,   0,   0,   0,   0,   0,   0,\n",
       "          0,   0],\n",
       "       [  0,   0,   0,   0,   0,   0,   0,   0,  80, 156, 107, 253, 253,\n",
       "        205,  11,   0,  43, 154,   0,   0,   0,   0,   0,   0,   0,   0,\n",
       "          0,   0],\n",
       "       [  0,   0,   0,   0,   0,   0,   0,   0,   0,  14,   1, 154, 253,\n",
       "         90,   0,   0,   0,   0,   0,   0,   0,   0,   0,   0,   0,   0,\n",
       "          0,   0],\n",
       "       [  0,   0,   0,   0,   0,   0,   0,   0,   0,   0,   0, 139, 253,\n",
       "        190,   2,   0,   0,   0,   0,   0,   0,   0,   0,   0,   0,   0,\n",
       "          0,   0],\n",
       "       [  0,   0,   0,   0,   0,   0,   0,   0,   0,   0,   0,  11, 190,\n",
       "        253,  70,   0,   0,   0,   0,   0,   0,   0,   0,   0,   0,   0,\n",
       "          0,   0],\n",
       "       [  0,   0,   0,   0,   0,   0,   0,   0,   0,   0,   0,   0,  35,\n",
       "        241, 225, 160, 108,   1,   0,   0,   0,   0,   0,   0,   0,   0,\n",
       "          0,   0],\n",
       "       [  0,   0,   0,   0,   0,   0,   0,   0,   0,   0,   0,   0,   0,\n",
       "         81, 240, 253, 253, 119,  25,   0,   0,   0,   0,   0,   0,   0,\n",
       "          0,   0],\n",
       "       [  0,   0,   0,   0,   0,   0,   0,   0,   0,   0,   0,   0,   0,\n",
       "          0,  45, 186, 253, 253, 150,  27,   0,   0,   0,   0,   0,   0,\n",
       "          0,   0],\n",
       "       [  0,   0,   0,   0,   0,   0,   0,   0,   0,   0,   0,   0,   0,\n",
       "          0,   0,  16,  93, 252, 253, 187,   0,   0,   0,   0,   0,   0,\n",
       "          0,   0],\n",
       "       [  0,   0,   0,   0,   0,   0,   0,   0,   0,   0,   0,   0,   0,\n",
       "          0,   0,   0,   0, 249, 253, 249,  64,   0,   0,   0,   0,   0,\n",
       "          0,   0],\n",
       "       [  0,   0,   0,   0,   0,   0,   0,   0,   0,   0,   0,   0,   0,\n",
       "          0,  46, 130, 183, 253, 253, 207,   2,   0,   0,   0,   0,   0,\n",
       "          0,   0],\n",
       "       [  0,   0,   0,   0,   0,   0,   0,   0,   0,   0,   0,   0,  39,\n",
       "        148, 229, 253, 253, 253, 250, 182,   0,   0,   0,   0,   0,   0,\n",
       "          0,   0],\n",
       "       [  0,   0,   0,   0,   0,   0,   0,   0,   0,   0,  24, 114, 221,\n",
       "        253, 253, 253, 253, 201,  78,   0,   0,   0,   0,   0,   0,   0,\n",
       "          0,   0],\n",
       "       [  0,   0,   0,   0,   0,   0,   0,   0,  23,  66, 213, 253, 253,\n",
       "        253, 253, 198,  81,   2,   0,   0,   0,   0,   0,   0,   0,   0,\n",
       "          0,   0],\n",
       "       [  0,   0,   0,   0,   0,   0,  18, 171, 219, 253, 253, 253, 253,\n",
       "        195,  80,   9,   0,   0,   0,   0,   0,   0,   0,   0,   0,   0,\n",
       "          0,   0],\n",
       "       [  0,   0,   0,   0,  55, 172, 226, 253, 253, 253, 253, 244, 133,\n",
       "         11,   0,   0,   0,   0,   0,   0,   0,   0,   0,   0,   0,   0,\n",
       "          0,   0],\n",
       "       [  0,   0,   0,   0, 136, 253, 253, 253, 212, 135, 132,  16,   0,\n",
       "          0,   0,   0,   0,   0,   0,   0,   0,   0,   0,   0,   0,   0,\n",
       "          0,   0],\n",
       "       [  0,   0,   0,   0,   0,   0,   0,   0,   0,   0,   0,   0,   0,\n",
       "          0,   0,   0,   0,   0,   0,   0,   0,   0,   0,   0,   0,   0,\n",
       "          0,   0],\n",
       "       [  0,   0,   0,   0,   0,   0,   0,   0,   0,   0,   0,   0,   0,\n",
       "          0,   0,   0,   0,   0,   0,   0,   0,   0,   0,   0,   0,   0,\n",
       "          0,   0],\n",
       "       [  0,   0,   0,   0,   0,   0,   0,   0,   0,   0,   0,   0,   0,\n",
       "          0,   0,   0,   0,   0,   0,   0,   0,   0,   0,   0,   0,   0,\n",
       "          0,   0]], dtype=uint8)"
      ]
     },
     "execution_count": 54,
     "metadata": {},
     "output_type": "execute_result"
    }
   ],
   "source": [
    "X_train[0]"
   ]
  },
  {
   "cell_type": "code",
   "execution_count": 55,
   "id": "fa635b83",
   "metadata": {},
   "outputs": [
    {
     "data": {
      "text/plain": [
       "<matplotlib.image.AxesImage at 0x261b891fe90>"
      ]
     },
     "execution_count": 55,
     "metadata": {},
     "output_type": "execute_result"
    },
    {
     "data": {
      "image/png": "[encoded data removed]",
      "text/plain": [
       "<Figure size 640x480 with 1 Axes>"
      ]
     },
     "metadata": {},
     "output_type": "display_data"
    }
   ],
   "source": [
    "# voir image x_train[0] avec matplotlib\n",
    "plt.imshow(X_train[0], cmap='gray')"
   ]
  },
  {
   "cell_type": "markdown",
   "id": "3dac559a",
   "metadata": {},
   "source": [
    "### Normalisation des données"
   ]
  },
  {
   "cell_type": "code",
   "execution_count": 56,
   "id": "6b515c53",
   "metadata": {},
   "outputs": [],
   "source": [
    "# Normalisation des données entre 0 et 1\n",
    "X_train = X_train.astype('float32') / 255.0\n",
    "X_test = X_test.astype('float32') / 255.0"
   ]
  },
  {
   "cell_type": "code",
   "execution_count": 61,
   "id": "dd2657f2",
   "metadata": {},
   "outputs": [
    {
     "data": {
      "text/plain": [
       "array([[0.7294118 , 0.99215686, 0.99215686, 0.5882353 , 0.10588235],\n",
       "       [0.0627451 , 0.3647059 , 0.9882353 , 0.99215686, 0.73333335],\n",
       "       [0.        , 0.        , 0.9764706 , 0.99215686, 0.9764706 ],\n",
       "       [0.50980395, 0.7176471 , 0.99215686, 0.99215686, 0.8117647 ],\n",
       "       [0.99215686, 0.99215686, 0.99215686, 0.98039216, 0.7137255 ]],\n",
       "      dtype=float32)"
      ]
     },
     "execution_count": 61,
     "metadata": {},
     "output_type": "execute_result"
    }
   ],
   "source": [
    "X_train[0][15:20, 15:20]\n"
   ]
  },
  {
   "cell_type": "code",
   "execution_count": 63,
   "id": "f09ad69e",
   "metadata": {},
   "outputs": [],
   "source": [
    "# Redimensionnement des données pour les adapter à l'entrée du modèle\n",
    "X_train = X_train.reshape(X_train.shape[0], 28, 28, 1) \n",
    "X_test = X_test.reshape(X_test.shape[0], 28, 28, 1)"
   ]
  },
  {
   "cell_type": "code",
   "execution_count": 65,
   "id": "f1f9b6d9",
   "metadata": {},
   "outputs": [],
   "source": [
    "# Conversion des étiquettes en format catégoriel\n",
    "y_train = to_categorical(y_train, num_classes=10) # que \n",
    "y_test = to_categorical(y_test, num_classes=10)"
   ]
  },
  {
   "cell_type": "code",
   "execution_count": null,
   "id": "d0c2f1e0",
   "metadata": {},
   "outputs": [
    {
     "name": "stdout",
     "output_type": "stream",
     "text": [
      "Label de l'image : [0. 0. 0. 0. 0. 1. 0. 0. 0. 0.]\n"
     ]
    },
    {
     "data": {
      "image/png": "[encoded data removed]",
      "text/plain": [
       "<Figure size 640x480 with 1 Axes>"
      ]
     },
     "metadata": {},
     "output_type": "display_data"
    }
   ],
   "source": [
    "# Tracer la 1ere image de l'ensemble d'entraînement\n",
    "plt.imshow(X_train[0].reshape(28, 28), cmap='gray')\n",
    "print(\"Label de l'image :\", y_train[0])  # Affiche le label de l'image"
   ]
  },
  {
   "cell_type": "code",
   "execution_count": 66,
   "id": "3cf8ec71",
   "metadata": {},
   "outputs": [],
   "source": [
    "# sample = 20\n",
    "# images = X_train[:sample]\n",
    "# fig = plt.figure(figsize=(10, 10))\n",
    "# for i in range(sample):\n",
    "#     ax = fig.add_subplot(5, 4, i + 1)\n",
    "#     ax.imshow(images[i], cmap='gray')\n",
    "#     ax.set_title(f\"Label: {y_train[i]}\")\n",
    "#     ax.axis('off')\n",
    "# plt.tight_layout()\n",
    "# plt.show()\n"
   ]
  },
  {
   "cell_type": "code",
   "execution_count": 74,
   "id": "54c26212",
   "metadata": {},
   "outputs": [],
   "source": [
    "# création du modèle\n",
    "model = Sequential()\n",
    "# Ajout de la première couche d'entrée en input avec une forme de 28x28x1 (image en niveaux de gris)\n",
    "model.add(Input(shape=(28, 28, 1)))\n",
    "model.add(Flatten())  # Aplatit les données d'entrée pour les rendre compatibles avec les couches denses\n",
    "model.add(Dense(128, activation='relu'))  # Couche dense avec 128 neurones et activation ReLU\n",
    "model.add(Dense(10, activation='softmax'))  # Couche de sortie avec 10 neurones (une pour chaque classe) et activation softmax"
   ]
  },
  {
   "cell_type": "code",
   "execution_count": 76,
   "id": "9de2f02f",
   "metadata": {},
   "outputs": [],
   "source": [
    "model = Sequential(\n",
    "    [\n",
    "        Input(shape=(28, 28, 1)),  # Couche d'entrée\n",
    "        Flatten(),  # Aplatit les données\n",
    "        Dense(128, activation='relu'),  # Couche dense avec 128 neurones et activation ReLU\n",
    "        Dense(10, activation='softmax')  # Couche de sortie avec 10 neurones et activation softmax\n",
    "    ]\n",
    ")"
   ]
  },
  {
   "cell_type": "code",
   "execution_count": 77,
   "id": "b8625271",
   "metadata": {},
   "outputs": [
    {
     "data": {
      "text/html": [
       "<pre style=\"white-space:pre;overflow-x:auto;line-height:normal;font-family:Menlo,'DejaVu Sans Mono',consolas,'Courier New',monospace\"><span style=\"font-weight: bold\">Model: \"sequential_5\"</span>\n",
       "</pre>\n"
      ],
      "text/plain": [
       "\u001b[1mModel: \"sequential_5\"\u001b[0m\n"
      ]
     },
     "metadata": {},
     "output_type": "display_data"
    },
    {
     "data": {
      "text/html": [
       "<pre style=\"white-space:pre;overflow-x:auto;line-height:normal;font-family:Menlo,'DejaVu Sans Mono',consolas,'Courier New',monospace\">┏━━━━━━━━━━━━━━━━━━━━━━━━━━━━━━━━━┳━━━━━━━━━━━━━━━━━━━━━━━━┳━━━━━━━━━━━━━━━┓\n",
       "┃<span style=\"font-weight: bold\"> Layer (type)                    </span>┃<span style=\"font-weight: bold\"> Output Shape           </span>┃<span style=\"font-weight: bold\">       Param # </span>┃\n",
       "┡━━━━━━━━━━━━━━━━━━━━━━━━━━━━━━━━━╇━━━━━━━━━━━━━━━━━━━━━━━━╇━━━━━━━━━━━━━━━┩\n",
       "│ flatten_2 (<span style=\"color: #0087ff; text-decoration-color: #0087ff\">Flatten</span>)             │ (<span style=\"color: #00d7ff; text-decoration-color: #00d7ff\">None</span>, <span style=\"color: #00af00; text-decoration-color: #00af00\">784</span>)            │             <span style=\"color: #00af00; text-decoration-color: #00af00\">0</span> │\n",
       "├─────────────────────────────────┼────────────────────────┼───────────────┤\n",
       "│ dense_4 (<span style=\"color: #0087ff; text-decoration-color: #0087ff\">Dense</span>)                 │ (<span style=\"color: #00d7ff; text-decoration-color: #00d7ff\">None</span>, <span style=\"color: #00af00; text-decoration-color: #00af00\">128</span>)            │       <span style=\"color: #00af00; text-decoration-color: #00af00\">100,480</span> │\n",
       "├─────────────────────────────────┼────────────────────────┼───────────────┤\n",
       "│ dense_5 (<span style=\"color: #0087ff; text-decoration-color: #0087ff\">Dense</span>)                 │ (<span style=\"color: #00d7ff; text-decoration-color: #00d7ff\">None</span>, <span style=\"color: #00af00; text-decoration-color: #00af00\">10</span>)             │         <span style=\"color: #00af00; text-decoration-color: #00af00\">1,290</span> │\n",
       "└─────────────────────────────────┴────────────────────────┴───────────────┘\n",
       "</pre>\n"
      ],
      "text/plain": [
       "┏━━━━━━━━━━━━━━━━━━━━━━━━━━━━━━━━━┳━━━━━━━━━━━━━━━━━━━━━━━━┳━━━━━━━━━━━━━━━┓\n",
       "┃\u001b[1m \u001b[0m\u001b[1mLayer (type)                   \u001b[0m\u001b[1m \u001b[0m┃\u001b[1m \u001b[0m\u001b[1mOutput Shape          \u001b[0m\u001b[1m \u001b[0m┃\u001b[1m \u001b[0m\u001b[1m      Param #\u001b[0m\u001b[1m \u001b[0m┃\n",
       "┡━━━━━━━━━━━━━━━━━━━━━━━━━━━━━━━━━╇━━━━━━━━━━━━━━━━━━━━━━━━╇━━━━━━━━━━━━━━━┩\n",
       "│ flatten_2 (\u001b[38;5;33mFlatten\u001b[0m)             │ (\u001b[38;5;45mNone\u001b[0m, \u001b[38;5;34m784\u001b[0m)            │             \u001b[38;5;34m0\u001b[0m │\n",
       "├─────────────────────────────────┼────────────────────────┼───────────────┤\n",
       "│ dense_4 (\u001b[38;5;33mDense\u001b[0m)                 │ (\u001b[38;5;45mNone\u001b[0m, \u001b[38;5;34m128\u001b[0m)            │       \u001b[38;5;34m100,480\u001b[0m │\n",
       "├─────────────────────────────────┼────────────────────────┼───────────────┤\n",
       "│ dense_5 (\u001b[38;5;33mDense\u001b[0m)                 │ (\u001b[38;5;45mNone\u001b[0m, \u001b[38;5;34m10\u001b[0m)             │         \u001b[38;5;34m1,290\u001b[0m │\n",
       "└─────────────────────────────────┴────────────────────────┴───────────────┘\n"
      ]
     },
     "metadata": {},
     "output_type": "display_data"
    },
    {
     "data": {
      "text/html": [
       "<pre style=\"white-space:pre;overflow-x:auto;line-height:normal;font-family:Menlo,'DejaVu Sans Mono',consolas,'Courier New',monospace\"><span style=\"font-weight: bold\"> Total params: </span><span style=\"color: #00af00; text-decoration-color: #00af00\">101,770</span> (397.54 KB)\n",
       "</pre>\n"
      ],
      "text/plain": [
       "\u001b[1m Total params: \u001b[0m\u001b[38;5;34m101,770\u001b[0m (397.54 KB)\n"
      ]
     },
     "metadata": {},
     "output_type": "display_data"
    },
    {
     "data": {
      "text/html": [
       "<pre style=\"white-space:pre;overflow-x:auto;line-height:normal;font-family:Menlo,'DejaVu Sans Mono',consolas,'Courier New',monospace\"><span style=\"font-weight: bold\"> Trainable params: </span><span style=\"color: #00af00; text-decoration-color: #00af00\">101,770</span> (397.54 KB)\n",
       "</pre>\n"
      ],
      "text/plain": [
       "\u001b[1m Trainable params: \u001b[0m\u001b[38;5;34m101,770\u001b[0m (397.54 KB)\n"
      ]
     },
     "metadata": {},
     "output_type": "display_data"
    },
    {
     "data": {
      "text/html": [
       "<pre style=\"white-space:pre;overflow-x:auto;line-height:normal;font-family:Menlo,'DejaVu Sans Mono',consolas,'Courier New',monospace\"><span style=\"font-weight: bold\"> Non-trainable params: </span><span style=\"color: #00af00; text-decoration-color: #00af00\">0</span> (0.00 B)\n",
       "</pre>\n"
      ],
      "text/plain": [
       "\u001b[1m Non-trainable params: \u001b[0m\u001b[38;5;34m0\u001b[0m (0.00 B)\n"
      ]
     },
     "metadata": {},
     "output_type": "display_data"
    }
   ],
   "source": [
    "model.summary()  # Affiche le résumé du modèle"
   ]
  },
  {
   "cell_type": "code",
   "execution_count": null,
   "id": "1bbf9988",
   "metadata": {},
   "outputs": [],
   "source": [
    "model.compile(\n",
    "    loss='categorical_crossentropy',  # Fonction de perte pour la classification multi-classe\n",
    "    optimizer='adam',  # Optimiseur Adam\n",
    "    metrics=['accuracy']  # Métriques pour évaluer le modèle (précision)\n",
    ")"
   ]
  },
  {
   "cell_type": "markdown",
   "id": "f54a88d2",
   "metadata": {},
   "source": [
    "### Ajustement du modele"
   ]
  },
  {
   "cell_type": "code",
   "execution_count": 81,
   "id": "0d07235c",
   "metadata": {},
   "outputs": [
    {
     "name": "stdout",
     "output_type": "stream",
     "text": [
      "Epoch 1/20\n",
      "\u001b[1m80/80\u001b[0m \u001b[32m━━━━━━━━━━━━━━━━━━━━\u001b[0m\u001b[37m\u001b[0m \u001b[1m3s\u001b[0m 10ms/step - accuracy: 0.6749 - loss: 1.1642 - val_accuracy: 0.9140 - val_loss: 0.3121\n",
      "Epoch 2/20\n",
      "\u001b[1m80/80\u001b[0m \u001b[32m━━━━━━━━━━━━━━━━━━━━\u001b[0m\u001b[37m\u001b[0m \u001b[1m1s\u001b[0m 7ms/step - accuracy: 0.9149 - loss: 0.3079 - val_accuracy: 0.9342 - val_loss: 0.2449\n",
      "Epoch 3/20\n",
      "\u001b[1m80/80\u001b[0m \u001b[32m━━━━━━━━━━━━━━━━━━━━\u001b[0m\u001b[37m\u001b[0m \u001b[1m1s\u001b[0m 6ms/step - accuracy: 0.9319 - loss: 0.2421 - val_accuracy: 0.9418 - val_loss: 0.2102\n",
      "Epoch 4/20\n",
      "\u001b[1m80/80\u001b[0m \u001b[32m━━━━━━━━━━━━━━━━━━━━\u001b[0m\u001b[37m\u001b[0m \u001b[1m1s\u001b[0m 7ms/step - accuracy: 0.9420 - loss: 0.2040 - val_accuracy: 0.9489 - val_loss: 0.1851\n",
      "Epoch 5/20\n",
      "\u001b[1m80/80\u001b[0m \u001b[32m━━━━━━━━━━━━━━━━━━━━\u001b[0m\u001b[37m\u001b[0m \u001b[1m1s\u001b[0m 7ms/step - accuracy: 0.9497 - loss: 0.1814 - val_accuracy: 0.9526 - val_loss: 0.1659\n",
      "Epoch 6/20\n",
      "\u001b[1m80/80\u001b[0m \u001b[32m━━━━━━━━━━━━━━━━━━━━\u001b[0m\u001b[37m\u001b[0m \u001b[1m1s\u001b[0m 7ms/step - accuracy: 0.9579 - loss: 0.1527 - val_accuracy: 0.9563 - val_loss: 0.1531\n",
      "Epoch 7/20\n",
      "\u001b[1m80/80\u001b[0m \u001b[32m━━━━━━━━━━━━━━━━━━━━\u001b[0m\u001b[37m\u001b[0m \u001b[1m1s\u001b[0m 7ms/step - accuracy: 0.9623 - loss: 0.1371 - val_accuracy: 0.9588 - val_loss: 0.1397\n",
      "Epoch 8/20\n",
      "\u001b[1m80/80\u001b[0m \u001b[32m━━━━━━━━━━━━━━━━━━━━\u001b[0m\u001b[37m\u001b[0m \u001b[1m1s\u001b[0m 7ms/step - accuracy: 0.9671 - loss: 0.1188 - val_accuracy: 0.9617 - val_loss: 0.1332\n",
      "Epoch 9/20\n",
      "\u001b[1m80/80\u001b[0m \u001b[32m━━━━━━━━━━━━━━━━━━━━\u001b[0m\u001b[37m\u001b[0m \u001b[1m1s\u001b[0m 7ms/step - accuracy: 0.9699 - loss: 0.1098 - val_accuracy: 0.9641 - val_loss: 0.1228\n",
      "Epoch 10/20\n",
      "\u001b[1m80/80\u001b[0m \u001b[32m━━━━━━━━━━━━━━━━━━━━\u001b[0m\u001b[37m\u001b[0m \u001b[1m1s\u001b[0m 7ms/step - accuracy: 0.9735 - loss: 0.0969 - val_accuracy: 0.9643 - val_loss: 0.1188\n",
      "Epoch 11/20\n",
      "\u001b[1m80/80\u001b[0m \u001b[32m━━━━━━━━━━━━━━━━━━━━\u001b[0m\u001b[37m\u001b[0m \u001b[1m1s\u001b[0m 7ms/step - accuracy: 0.9749 - loss: 0.0899 - val_accuracy: 0.9665 - val_loss: 0.1125\n",
      "Epoch 12/20\n",
      "\u001b[1m80/80\u001b[0m \u001b[32m━━━━━━━━━━━━━━━━━━━━\u001b[0m\u001b[37m\u001b[0m \u001b[1m1s\u001b[0m 7ms/step - accuracy: 0.9800 - loss: 0.0765 - val_accuracy: 0.9672 - val_loss: 0.1098\n",
      "Epoch 13/20\n",
      "\u001b[1m80/80\u001b[0m \u001b[32m━━━━━━━━━━━━━━━━━━━━\u001b[0m\u001b[37m\u001b[0m \u001b[1m1s\u001b[0m 7ms/step - accuracy: 0.9807 - loss: 0.0727 - val_accuracy: 0.9694 - val_loss: 0.1045\n",
      "Epoch 14/20\n",
      "\u001b[1m80/80\u001b[0m \u001b[32m━━━━━━━━━━━━━━━━━━━━\u001b[0m\u001b[37m\u001b[0m \u001b[1m1s\u001b[0m 7ms/step - accuracy: 0.9812 - loss: 0.0703 - val_accuracy: 0.9694 - val_loss: 0.1000\n",
      "Epoch 15/20\n",
      "\u001b[1m80/80\u001b[0m \u001b[32m━━━━━━━━━━━━━━━━━━━━\u001b[0m\u001b[37m\u001b[0m \u001b[1m1s\u001b[0m 6ms/step - accuracy: 0.9840 - loss: 0.0618 - val_accuracy: 0.9704 - val_loss: 0.0984\n",
      "Epoch 16/20\n",
      "\u001b[1m80/80\u001b[0m \u001b[32m━━━━━━━━━━━━━━━━━━━━\u001b[0m\u001b[37m\u001b[0m \u001b[1m1s\u001b[0m 6ms/step - accuracy: 0.9844 - loss: 0.0554 - val_accuracy: 0.9711 - val_loss: 0.0952\n",
      "Epoch 17/20\n",
      "\u001b[1m80/80\u001b[0m \u001b[32m━━━━━━━━━━━━━━━━━━━━\u001b[0m\u001b[37m\u001b[0m \u001b[1m1s\u001b[0m 7ms/step - accuracy: 0.9871 - loss: 0.0543 - val_accuracy: 0.9720 - val_loss: 0.0942\n",
      "Epoch 18/20\n",
      "\u001b[1m80/80\u001b[0m \u001b[32m━━━━━━━━━━━━━━━━━━━━\u001b[0m\u001b[37m\u001b[0m \u001b[1m1s\u001b[0m 7ms/step - accuracy: 0.9881 - loss: 0.0482 - val_accuracy: 0.9725 - val_loss: 0.0905\n",
      "Epoch 19/20\n",
      "\u001b[1m80/80\u001b[0m \u001b[32m━━━━━━━━━━━━━━━━━━━━\u001b[0m\u001b[37m\u001b[0m \u001b[1m1s\u001b[0m 6ms/step - accuracy: 0.9892 - loss: 0.0450 - val_accuracy: 0.9717 - val_loss: 0.0895\n",
      "Epoch 20/20\n",
      "\u001b[1m80/80\u001b[0m \u001b[32m━━━━━━━━━━━━━━━━━━━━\u001b[0m\u001b[37m\u001b[0m \u001b[1m1s\u001b[0m 6ms/step - accuracy: 0.9908 - loss: 0.0401 - val_accuracy: 0.9728 - val_loss: 0.0885\n"
     ]
    }
   ],
   "source": [
    "# Ajustement du modèle\n",
    "mymodel = model.fit(\n",
    "    X_train, y_train,  # Données d'entraînement et étiquettes\n",
    "    epochs=20,  # Nombre d'époques pour l'entraînement\n",
    "    batch_size=600,  # Taille du lot pour l'entraînement\n",
    "    verbose=1,  # Affiche les informations d'entraînement\n",
    "    validation_split=0.2  # Fraction des données d'entraînement à utiliser pour la validation\n",
    ")   "
   ]
  },
  {
   "cell_type": "markdown",
   "id": "8df11584",
   "metadata": {},
   "source": [
    "### Prédire les données de test"
   ]
  },
  {
   "cell_type": "code",
   "execution_count": 82,
   "id": "2eb3765b",
   "metadata": {},
   "outputs": [
    {
     "name": "stdout",
     "output_type": "stream",
     "text": [
      "\u001b[1m313/313\u001b[0m \u001b[32m━━━━━━━━━━━━━━━━━━━━\u001b[0m\u001b[37m\u001b[0m \u001b[1m0s\u001b[0m 1ms/step\n"
     ]
    }
   ],
   "source": [
    "y_test_pred = model.predict(X_test)  # Prédictions sur l'ensemble de test"
   ]
  },
  {
   "cell_type": "code",
   "execution_count": 90,
   "id": "b05510bc",
   "metadata": {},
   "outputs": [
    {
     "data": {
      "text/html": [
       "<div>\n",
       "<style scoped>\n",
       "    .dataframe tbody tr th:only-of-type {\n",
       "        vertical-align: middle;\n",
       "    }\n",
       "\n",
       "    .dataframe tbody tr th {\n",
       "        vertical-align: top;\n",
       "    }\n",
       "\n",
       "    .dataframe thead th {\n",
       "        text-align: right;\n",
       "    }\n",
       "</style>\n",
       "<table border=\"1\" class=\"dataframe\">\n",
       "  <thead>\n",
       "    <tr style=\"text-align: right;\">\n",
       "      <th></th>\n",
       "      <th>0</th>\n",
       "      <th>1</th>\n",
       "      <th>2</th>\n",
       "      <th>3</th>\n",
       "      <th>4</th>\n",
       "      <th>5</th>\n",
       "      <th>6</th>\n",
       "      <th>7</th>\n",
       "      <th>8</th>\n",
       "      <th>9</th>\n",
       "    </tr>\n",
       "  </thead>\n",
       "  <tbody>\n",
       "    <tr>\n",
       "      <th>0</th>\n",
       "      <td>1.178326e-07</td>\n",
       "      <td>4.849749e-09</td>\n",
       "      <td>0.000012</td>\n",
       "      <td>6.858750e-04</td>\n",
       "      <td>2.345771e-10</td>\n",
       "      <td>3.601355e-07</td>\n",
       "      <td>5.942556e-10</td>\n",
       "      <td>9.992962e-01</td>\n",
       "      <td>8.559920e-07</td>\n",
       "      <td>4.814292e-06</td>\n",
       "    </tr>\n",
       "    <tr>\n",
       "      <th>1</th>\n",
       "      <td>3.968730e-07</td>\n",
       "      <td>2.117770e-04</td>\n",
       "      <td>0.999763</td>\n",
       "      <td>1.623375e-05</td>\n",
       "      <td>1.985431e-15</td>\n",
       "      <td>7.171082e-06</td>\n",
       "      <td>4.056171e-07</td>\n",
       "      <td>2.920066e-13</td>\n",
       "      <td>1.255828e-06</td>\n",
       "      <td>1.862297e-11</td>\n",
       "    </tr>\n",
       "    <tr>\n",
       "      <th>2</th>\n",
       "      <td>2.162505e-05</td>\n",
       "      <td>9.968951e-01</td>\n",
       "      <td>0.000436</td>\n",
       "      <td>9.037342e-05</td>\n",
       "      <td>1.403804e-04</td>\n",
       "      <td>6.672582e-05</td>\n",
       "      <td>4.997652e-05</td>\n",
       "      <td>1.740256e-03</td>\n",
       "      <td>5.491546e-04</td>\n",
       "      <td>1.006447e-05</td>\n",
       "    </tr>\n",
       "    <tr>\n",
       "      <th>3</th>\n",
       "      <td>9.998944e-01</td>\n",
       "      <td>9.245746e-09</td>\n",
       "      <td>0.000074</td>\n",
       "      <td>5.438134e-07</td>\n",
       "      <td>1.407899e-07</td>\n",
       "      <td>1.885105e-06</td>\n",
       "      <td>7.661299e-06</td>\n",
       "      <td>1.705841e-05</td>\n",
       "      <td>7.264797e-09</td>\n",
       "      <td>4.843935e-06</td>\n",
       "    </tr>\n",
       "    <tr>\n",
       "      <th>4</th>\n",
       "      <td>2.249201e-05</td>\n",
       "      <td>6.082431e-08</td>\n",
       "      <td>0.000041</td>\n",
       "      <td>7.931264e-07</td>\n",
       "      <td>9.952999e-01</td>\n",
       "      <td>5.870612e-07</td>\n",
       "      <td>1.440227e-05</td>\n",
       "      <td>1.206884e-04</td>\n",
       "      <td>1.111006e-05</td>\n",
       "      <td>4.488521e-03</td>\n",
       "    </tr>\n",
       "  </tbody>\n",
       "</table>\n",
       "</div>"
      ],
      "text/plain": [
       "              0             1         2             3             4  \\\n",
       "0  1.178326e-07  4.849749e-09  0.000012  6.858750e-04  2.345771e-10   \n",
       "1  3.968730e-07  2.117770e-04  0.999763  1.623375e-05  1.985431e-15   \n",
       "2  2.162505e-05  9.968951e-01  0.000436  9.037342e-05  1.403804e-04   \n",
       "3  9.998944e-01  9.245746e-09  0.000074  5.438134e-07  1.407899e-07   \n",
       "4  2.249201e-05  6.082431e-08  0.000041  7.931264e-07  9.952999e-01   \n",
       "\n",
       "              5             6             7             8             9  \n",
       "0  3.601355e-07  5.942556e-10  9.992962e-01  8.559920e-07  4.814292e-06  \n",
       "1  7.171082e-06  4.056171e-07  2.920066e-13  1.255828e-06  1.862297e-11  \n",
       "2  6.672582e-05  4.997652e-05  1.740256e-03  5.491546e-04  1.006447e-05  \n",
       "3  1.885105e-06  7.661299e-06  1.705841e-05  7.264797e-09  4.843935e-06  \n",
       "4  5.870612e-07  1.440227e-05  1.206884e-04  1.111006e-05  4.488521e-03  "
      ]
     },
     "execution_count": 90,
     "metadata": {},
     "output_type": "execute_result"
    }
   ],
   "source": [
    "pd.DataFrame(y_test_pred).head()  # Affiche les premières lignes des prédictions"
   ]
  },
  {
   "cell_type": "code",
   "execution_count": 91,
   "id": "5bb4eb83",
   "metadata": {},
   "outputs": [
    {
     "name": "stdout",
     "output_type": "stream",
     "text": [
      "[0. 0. 0. 0. 0. 0. 0. 0. 1. 0.]\n"
     ]
    },
    {
     "data": {
      "text/plain": [
       "np.int64(8)"
      ]
     },
     "execution_count": 91,
     "metadata": {},
     "output_type": "execute_result"
    }
   ],
   "source": [
    "mysample = 1234\n",
    "\n",
    "print(y_test[mysample])  # Affiche l'étiquette réelle de l'échantillon\n",
    "np.argmax(y_test_pred[mysample])  # Affiche l'étiquette prédite par le modèle\n"
   ]
  },
  {
   "cell_type": "code",
   "execution_count": 86,
   "id": "6271cd39",
   "metadata": {},
   "outputs": [
    {
     "data": {
      "text/plain": [
       "Text(0.5, 1.0, 'Label: 8, Predicted: 8')"
      ]
     },
     "execution_count": 86,
     "metadata": {},
     "output_type": "execute_result"
    },
    {
     "data": {
      "image/png": "[encoded data removed]",
      "text/plain": [
       "<Figure size 640x480 with 1 Axes>"
      ]
     },
     "metadata": {},
     "output_type": "display_data"
    }
   ],
   "source": [
    "plt.imshow(X_test[mysample].reshape(28, 28), cmap='gray')  # Affiche l'image de l'échantillon\n",
    "plt.title(f\"Label: {np.argmax(y_test[mysample])}, Predicted: {np.argmax(y_test_pred[mysample])}\")  # Affiche le label réel et la prédiction"
   ]
  },
  {
   "cell_type": "markdown",
   "id": "32541e8c",
   "metadata": {},
   "source": [
    "#### Transformation les probabilités en modalité la plus vraisemblable"
   ]
  },
  {
   "cell_type": "code",
   "execution_count": 87,
   "id": "71b42ef9",
   "metadata": {},
   "outputs": [],
   "source": [
    "y_test_class = np.argmax(y_test, axis=1)  # Convertit les étiquettes de test en classes\n",
    "y_test_pred_class = np.argmax(y_test_pred, axis=1)  # Convertit les prédictions en classes"
   ]
  },
  {
   "cell_type": "code",
   "execution_count": 89,
   "id": "891f3a87",
   "metadata": {},
   "outputs": [
    {
     "data": {
      "text/html": [
       "<div>\n",
       "<style scoped>\n",
       "    .dataframe tbody tr th:only-of-type {\n",
       "        vertical-align: middle;\n",
       "    }\n",
       "\n",
       "    .dataframe tbody tr th {\n",
       "        vertical-align: top;\n",
       "    }\n",
       "\n",
       "    .dataframe thead th {\n",
       "        text-align: right;\n",
       "    }\n",
       "</style>\n",
       "<table border=\"1\" class=\"dataframe\">\n",
       "  <thead>\n",
       "    <tr style=\"text-align: right;\">\n",
       "      <th></th>\n",
       "      <th>Y</th>\n",
       "      <th>Ypred</th>\n",
       "    </tr>\n",
       "  </thead>\n",
       "  <tbody>\n",
       "    <tr>\n",
       "      <th>0</th>\n",
       "      <td>7</td>\n",
       "      <td>7</td>\n",
       "    </tr>\n",
       "    <tr>\n",
       "      <th>1</th>\n",
       "      <td>2</td>\n",
       "      <td>2</td>\n",
       "    </tr>\n",
       "    <tr>\n",
       "      <th>2</th>\n",
       "      <td>1</td>\n",
       "      <td>1</td>\n",
       "    </tr>\n",
       "    <tr>\n",
       "      <th>3</th>\n",
       "      <td>0</td>\n",
       "      <td>0</td>\n",
       "    </tr>\n",
       "    <tr>\n",
       "      <th>4</th>\n",
       "      <td>4</td>\n",
       "      <td>4</td>\n",
       "    </tr>\n",
       "    <tr>\n",
       "      <th>...</th>\n",
       "      <td>...</td>\n",
       "      <td>...</td>\n",
       "    </tr>\n",
       "    <tr>\n",
       "      <th>9995</th>\n",
       "      <td>2</td>\n",
       "      <td>2</td>\n",
       "    </tr>\n",
       "    <tr>\n",
       "      <th>9996</th>\n",
       "      <td>3</td>\n",
       "      <td>3</td>\n",
       "    </tr>\n",
       "    <tr>\n",
       "      <th>9997</th>\n",
       "      <td>4</td>\n",
       "      <td>4</td>\n",
       "    </tr>\n",
       "    <tr>\n",
       "      <th>9998</th>\n",
       "      <td>5</td>\n",
       "      <td>5</td>\n",
       "    </tr>\n",
       "    <tr>\n",
       "      <th>9999</th>\n",
       "      <td>6</td>\n",
       "      <td>6</td>\n",
       "    </tr>\n",
       "  </tbody>\n",
       "</table>\n",
       "<p>10000 rows × 2 columns</p>\n",
       "</div>"
      ],
      "text/plain": [
       "      Y  Ypred\n",
       "0     7      7\n",
       "1     2      2\n",
       "2     1      1\n",
       "3     0      0\n",
       "4     4      4\n",
       "...  ..    ...\n",
       "9995  2      2\n",
       "9996  3      3\n",
       "9997  4      4\n",
       "9998  5      5\n",
       "9999  6      6\n",
       "\n",
       "[10000 rows x 2 columns]"
      ]
     },
     "execution_count": 89,
     "metadata": {},
     "output_type": "execute_result"
    }
   ],
   "source": [
    "res = pd.concat(\n",
    "    [pd.DataFrame(y_test_class, columns=['Y']),\n",
    "     pd.DataFrame(y_test_pred_class, columns=['Ypred'])],\n",
    "    axis=1\n",
    ")\n",
    "res"
   ]
  },
  {
   "cell_type": "code",
   "execution_count": null,
   "id": "6ab3143a",
   "metadata": {},
   "outputs": [],
   "source": []
  },
  {
   "cell_type": "code",
   "execution_count": null,
   "id": "e6fb3889",
   "metadata": {},
   "outputs": [],
   "source": [
    "mymodel = model.fit(\n",
    "    X_train,  # Données d'entraînement\n",
    "    y_train,  # Étiquettes d'entraînement\n",
    "    epochs=10,  # Nombre d'époques pour l'entraînement\n",
    "    batch_size=32,  # Taille du lot pour l'entraînement\n",
    "    validation_data=(X_test, y_test)  # Données de validation\n",
    ")\n",
    "# Évaluation du modèle sur les données de test\n",
    "test_loss, test_accuracy, test_f1_score = model.evaluate(X_test, y_test)   \n",
    "print(f\"Test Loss: {test_loss}, Test Accuracy: {test_accuracy}, Test F1 Score: {test_f1_score}\")\n",
    "\n",
    "# Prédictions sur les données de test\n",
    "predictions = model.predict(X_test)\n",
    "# Affichage des 10 premières prédictions\n",
    "for i in range(10):\n",
    "    print(f\"Image {i+1}: Prédiction = {np.argmax(predictions[i])}, Réel = {np.argmax(y_test[i])}\")\n",
    "# Tracer la courbe de perte et d'exactitude\n",
    "plt.figure(figsize=(12, 5))\n",
    "plt.subplot(1, 2, 1)\n",
    "plt.plot(mymodel.history['loss'], label='Perte d\\'entraînement')\n",
    "plt.plot(mymodel.history['val_loss'], label='Perte de validation')\n",
    "plt.title('Courbe de perte')\n",
    "plt.xlabel('Époques')\n",
    "plt.ylabel('Perte')\n",
    "plt.legend()\n",
    "plt.subplot(1, 2, 2)\n",
    "plt.plot(mymodel.history['accuracy'], label='Exactitude d\\'entraînement')\n"
   ]
  },
  {
   "cell_type": "code",
   "execution_count": null,
   "id": "a716325c",
   "metadata": {},
   "outputs": [
    {
     "ename": "TypeError",
     "evalue": "Kernel.raw_input() got an unexpected keyword argument 'shape'",
     "output_type": "error",
     "traceback": [
      "\u001b[31m---------------------------------------------------------------------------\u001b[39m",
      "\u001b[31mTypeError\u001b[39m                                 Traceback (most recent call last)",
      "\u001b[36mCell\u001b[39m\u001b[36m \u001b[39m\u001b[32mIn[70]\u001b[39m\u001b[32m, line 1\u001b[39m\n\u001b[32m----> \u001b[39m\u001b[32m1\u001b[39m model.add(\u001b[38;5;28;43minput\u001b[39;49m\u001b[43m(\u001b[49m\u001b[43mshape\u001b[49m\u001b[43m=\u001b[49m\u001b[43m(\u001b[49m\u001b[32;43m28\u001b[39;49m\u001b[43m,\u001b[49m\u001b[43m \u001b[49m\u001b[32;43m28\u001b[39;49m\u001b[43m,\u001b[49m\u001b[43m \u001b[49m\u001b[32;43m1\u001b[39;49m\u001b[43m)\u001b[49m\u001b[43m)\u001b[49m)  \u001b[38;5;66;03m# Entrée du modèle\u001b[39;00m\n",
      "\u001b[31mTypeError\u001b[39m: Kernel.raw_input() got an unexpected keyword argument 'shape'"
     ]
    }
   ],
   "source": []
  },
  {
   "cell_type": "code",
   "execution_count": null,
   "id": "3ca1000e",
   "metadata": {},
   "outputs": [],
   "source": [
    "# modèle CNN\n",
    "model.add(Flatten(input_shape=(28, 28, 1)))  # Aplatir l'entrée\n",
    "model.add(Dense(128, activation='relu'))  # Couche dense avec 128 neurones et activation ReLU\n",
    "model.add(Dropout(0.2))  # Dropout pour éviter le surapprentissage\n",
    "model.add(Dense(64, activation='relu'))  # Couche dense avec 64 neurones et activation ReLU\n",
    "model.add(Dropout(0.2))  # Dropout pour éviter le surapprentissage\n",
    "model.add(Dense(10, activation='softmax'))  # Couche de sortie avec 10 neurones (pour les 10 classes) et activation softmax\n",
    "# Compilation du modèle\n"
   ]
  },
  {
   "cell_type": "code",
   "execution_count": null,
   "id": "269796b7",
   "metadata": {},
   "outputs": [
    {
     "name": "stdout",
     "output_type": "stream",
     "text": [
      "Taille des données d'entraînement : (60000, 28, 28) (60000,)\n",
      "Taille des données de test : (10000, 28, 28) (10000,)\n"
     ]
    },
    {
     "name": "stderr",
     "output_type": "stream",
     "text": [
      "d:\\Master\\MBA ESG\\Résolution de problèmes démarche et outils\\Deep Learning\\.venv\\Lib\\site-packages\\keras\\src\\layers\\convolutional\\base_conv.py:113: UserWarning: Do not pass an `input_shape`/`input_dim` argument to a layer. When using Sequential models, prefer using an `Input(shape)` object as the first layer in the model instead.\n",
      "  super().__init__(activity_regularizer=activity_regularizer, **kwargs)\n"
     ]
    },
    {
     "ename": "TypeError",
     "evalue": "F1Score.__init__() got an unexpected keyword argument 'num_classes'",
     "output_type": "error",
     "traceback": [
      "\u001b[31m---------------------------------------------------------------------------\u001b[39m",
      "\u001b[31mTypeError\u001b[39m                                 Traceback (most recent call last)",
      "\u001b[36mCell\u001b[39m\u001b[36m \u001b[39m\u001b[32mIn[6]\u001b[39m\u001b[32m, line 31\u001b[39m\n\u001b[32m     28\u001b[39m model.add(Dense(\u001b[32m10\u001b[39m, activation=\u001b[33m'\u001b[39m\u001b[33msoftmax\u001b[39m\u001b[33m'\u001b[39m))\n\u001b[32m     30\u001b[39m \u001b[38;5;66;03m# Compilation du modèle\u001b[39;00m\n\u001b[32m---> \u001b[39m\u001b[32m31\u001b[39m model.compile(optimizer=\u001b[33m'\u001b[39m\u001b[33madam\u001b[39m\u001b[33m'\u001b[39m, loss=\u001b[33m'\u001b[39m\u001b[33mcategorical_crossentropy\u001b[39m\u001b[33m'\u001b[39m, metrics=[\u001b[33m'\u001b[39m\u001b[33maccuracy\u001b[39m\u001b[33m'\u001b[39m, \u001b[43mF1Score\u001b[49m\u001b[43m(\u001b[49m\u001b[43mnum_classes\u001b[49m\u001b[43m=\u001b[49m\u001b[32;43m10\u001b[39;49m\u001b[43m,\u001b[49m\u001b[43m \u001b[49m\u001b[43maverage\u001b[49m\u001b[43m=\u001b[49m\u001b[33;43m'\u001b[39;49m\u001b[33;43mmacro\u001b[39;49m\u001b[33;43m'\u001b[39;49m\u001b[43m)\u001b[49m])\n\u001b[32m     32\u001b[39m \u001b[38;5;66;03m# Entraînement du modèle\u001b[39;00m\n\u001b[32m     33\u001b[39m history = model.fit(X_train, y_train, epochs=\u001b[32m10\u001b[39m, batch_size=\u001b[32m128\u001b[39m, validation_data=(X_test, y_test))\n",
      "\u001b[31mTypeError\u001b[39m: F1Score.__init__() got an unexpected keyword argument 'num_classes'"
     ]
    }
   ],
   "source": [
    "# Taille des données\n",
    "print(\"Taille des données d'entraînement :\", X_train.shape, y_train.shape)\n",
    "print(\"Taille des données de test :\", X_test.shape, y_test.shape)\n",
    "\n",
    "# Normalisation des données\n",
    "X_train = X_train.astype('float32') / 255.0\n",
    "X_test = X_test.astype('float32') / 255.0\n",
    "\n",
    "# Reshape des données pour les adapter à l'entrée du modèle CNN\n",
    "X_train = X_train.reshape(X_train.shape[0], 28, 28, 1)\n",
    "X_test = X_test.reshape(X_test.shape[0], 28, 28, 1)\n",
    "# Conversion des étiquettes en format catégoriel\n",
    "y_train = to_categorical(y_train, num_classes=10)\n",
    "y_test = to_categorical(y_test, num_classes=10)\n",
    "\n",
    "# Création du modèle CNN\n",
    "model = Sequential()\n",
    "\n",
    "\n",
    "model.add(Flatten())\n",
    "model.add(Dense(128, activation='relu'))\n",
    "model.add(Dropout(0.5))\n",
    "model.add(Dense(10, activation='softmax'))\n",
    "\n",
    "# Compilation du modèle\n",
    "model.compile(optimizer='adam', loss='categorical_crossentropy', metrics=['accuracy', F1Score(num_classes=10, average='macro')])\n",
    "# Entraînement du modèle\n",
    "history = model.fit(X_train, y_train, epochs=10, batch_size=128, validation_data=(X_test, y_test))\n",
    "\n",
    "# Évaluation du modèle\n",
    "test_loss, test_accuracy, test_f1 = model.evaluate(X_test, y_test)\n",
    "print(\"Test Loss:\", test_loss)\n",
    "print(\"Test Accuracy:\", test_accuracy)\n",
    "print(\"Test F1 Score:\", test_f1)\n",
    "\n",
    "# Visualisation de l'historique d'entraînement"
   ]
  },
  {
   "cell_type": "code",
   "execution_count": null,
   "id": "a08b3d9f",
   "metadata": {},
   "outputs": [],
   "source": []
  }
 ],
 "metadata": {
  "kernelspec": {
   "display_name": ".venv",
   "language": "python",
   "name": "python3"
  },
  "language_info": {
   "codemirror_mode": {
    "name": "ipython",
    "version": 3
   },
   "file_extension": ".py",
   "mimetype": "text/x-python",
   "name": "python",
   "nbconvert_exporter": "python",
   "pygments_lexer": "ipython3",
   "version": "3.11.9"
  }
 },
 "nbformat": 4,
 "nbformat_minor": 5
}
